{
  "cells": [
    {
      "cell_type": "code",
      "execution_count": 2,
      "metadata": {
        "id": "ycBYLWBDqgUA"
      },
      "outputs": [],
      "source": [
        "import numpy as np\n",
        "import pandas as pd"
      ]
    },
    {
      "cell_type": "code",
      "execution_count": 4,
      "metadata": {
        "id": "ju08pLv2qhhS"
      },
      "outputs": [],
      "source": [
        "df=pd.read_excel(\"/content/Solar Dataset_Solar from MEDA-1.XLSX\")"
      ]
    },
    {
      "cell_type": "code",
      "execution_count": 5,
      "metadata": {
        "id": "INGYhyQhqoGL"
      },
      "outputs": [],
      "source": [
        "df.dropna(inplace=True)"
      ]
    },
    {
      "cell_type": "code",
      "execution_count": 6,
      "metadata": {
        "id": "JrWs8oRzqq4S"
      },
      "outputs": [],
      "source": [
        "df=df[[ '#date time', 'el','az','ghi','wb','precip','press','dp','rh','dni','ws','maxws','airtemp']]"
      ]
    },
    {
      "cell_type": "code",
      "execution_count": 7,
      "metadata": {
        "id": "CvcS519TqwUw"
      },
      "outputs": [],
      "source": [
        "df.replace(' NaN',0,inplace=True)"
      ]
    },
    {
      "cell_type": "code",
      "execution_count": 10,
      "metadata": {
        "colab": {
          "base_uri": "https://localhost:8080/"
        },
        "id": "EtcbF9jOuee0",
        "outputId": "8d826cfa-93da-413a-cd62-f82ceb0d526e"
      },
      "outputs": [
        {
          "name": "stderr",
          "output_type": "stream",
          "text": [
            "DEBUG:cmdstanpy:input tempfile: /tmp/tmpw6jf9vg3/xbj5rbwu.json\n",
            "DEBUG:cmdstanpy:input tempfile: /tmp/tmpw6jf9vg3/uz52mj1p.json\n",
            "DEBUG:cmdstanpy:idx 0\n",
            "DEBUG:cmdstanpy:running CmdStan, num_threads: None\n",
            "DEBUG:cmdstanpy:CmdStan args: ['/usr/local/lib/python3.10/dist-packages/prophet/stan_model/prophet_model.bin', 'random', 'seed=20778', 'data', 'file=/tmp/tmpw6jf9vg3/xbj5rbwu.json', 'init=/tmp/tmpw6jf9vg3/uz52mj1p.json', 'output', 'file=/tmp/tmpw6jf9vg3/prophet_model45h9z1si/prophet_model-20240317140701.csv', 'method=optimize', 'algorithm=lbfgs', 'iter=10000']\n",
            "14:07:01 - cmdstanpy - INFO - Chain [1] start processing\n",
            "INFO:cmdstanpy:Chain [1] start processing\n",
            "14:07:05 - cmdstanpy - INFO - Chain [1] done processing\n",
            "INFO:cmdstanpy:Chain [1] done processing\n"
          ]
        },
        {
          "data": {
            "text/plain": [
              "<prophet.forecaster.Prophet at 0x7ad7dec41570>"
            ]
          },
          "execution_count": 10,
          "metadata": {},
          "output_type": "execute_result"
        }
      ],
      "source": [
        "#writing a facebook prophet model to predict dni using all features #date time', 'el','az','ghi','wb','precip','press','dp','rh','dni','ws','maxws','airtemp\n",
        "\n",
        "from prophet import Prophet\n",
        "df_prophet = df.rename(columns={'#date time': 'ds', 'dni': 'y'})\n",
        "model = Prophet(\n",
        "    growth='linear',\n",
        "    changepoints=['2020-01-01'],\n",
        "    n_changepoints=1,\n",
        "    yearly_seasonality=True,\n",
        "    weekly_seasonality=True,\n",
        "    daily_seasonality=True,\n",
        "    seasonality_mode='additive',\n",
        "    holidays=None,\n",
        "    seasonality_prior_scale=10.0,\n",
        "    changepoint_prior_scale=0.5,\n",
        "    holidays_prior_scale=10.0,\n",
        "    mcmc_samples=0,\n",
        "    interval_width=0.80,\n",
        "    uncertainty_samples=1000,\n",
        ")\n",
        "model.add_regressor('el')\n",
        "model.add_regressor('az')\n",
        "model.add_regressor('ghi')\n",
        "model.add_regressor('wb')\n",
        "model.add_regressor('precip')\n",
        "model.add_regressor('press')\n",
        "model.add_regressor('dp')\n",
        "model.add_regressor('rh')\n",
        "model.add_regressor('ws')\n",
        "model.add_regressor('maxws')\n",
        "model.add_regressor('airtemp')\n",
        "model.fit(df_prophet)\n"
      ]
    },
    {
      "cell_type": "code",
      "execution_count": 11,
      "metadata": {
        "colab": {
          "base_uri": "https://localhost:8080/"
        },
        "id": "YCcWyG3ku68U",
        "outputId": "fd2de58f-b44d-4e92-a523-0decae9b3d8e"
      },
      "outputs": [
        {
          "name": "stdout",
          "output_type": "stream",
          "text": [
            "Mean Squared Error (MSE): 13601.965896668748\n",
            "Mean Absolute Error (MAE): 85.97317200399613\n",
            "Root Mean Squared Error (RMSE): 116.6274663047635\n",
            "R-squared: 0.6890022480686021\n"
          ]
        }
      ],
      "source": [
        "#evaluating above model\n",
        "\n",
        "import numpy as np\n",
        "from sklearn.metrics import mean_squared_error, mean_absolute_error, r2_score\n",
        "\n",
        "# Make predictions\n",
        "y_pred = model.predict(df_prophet)\n",
        "\n",
        "# Calculate and print metrics\n",
        "print('Mean Squared Error (MSE):', mean_squared_error(df_prophet['y'], y_pred['yhat']))\n",
        "print('Mean Absolute Error (MAE):', mean_absolute_error(df_prophet['y'], y_pred['yhat']))\n",
        "print('Root Mean Squared Error (RMSE):', np.sqrt(mean_squared_error(df_prophet['y'], y_pred['yhat'])))\n",
        "print('R-squared:', r2_score(df_prophet['y'], y_pred['yhat']))\n"
      ]
    },
    {
      "cell_type": "code",
      "execution_count": 15,
      "metadata": {
        "colab": {
          "base_uri": "https://localhost:8080/"
        },
        "id": "BPbiu5T5vchd",
        "outputId": "f4b98a91-3a8a-4ab7-b5fa-bf4efd518928"
      },
      "outputs": [
        {
          "name": "stdout",
          "output_type": "stream",
          "text": [
            "Actual DNI values:\n",
            "52767    224\n",
            "52768    100\n",
            "52769      9\n",
            "52770    237\n",
            "52771    314\n",
            "Name: dni, dtype: int64\n",
            "\n",
            "Predicted DNI values:\n",
            "0   -190.310684\n",
            "1   -187.311292\n",
            "2   -180.550328\n",
            "3   -178.657860\n",
            "4   -180.694449\n",
            "Name: yhat, dtype: float64\n"
          ]
        }
      ],
      "source": [
        "\n",
        "import pandas as pd\n",
        "# Predict the next 5 values of DNI\n",
        "future_dates = pd.date_range(start='2023-01-01', periods=5, freq='D')\n",
        "future_df = pd.DataFrame({'ds': future_dates})\n",
        "future_df['el'] = df['el'].iloc[-1]\n",
        "future_df['az'] = df['az'].iloc[-1]\n",
        "future_df['ghi'] = df['ghi'].iloc[-1]\n",
        "future_df['wb'] = df['wb'].iloc[-1]\n",
        "future_df['precip'] = df['precip'].iloc[-1]\n",
        "future_df['press'] = df['press'].iloc[-1]\n",
        "future_df['dp'] = df['dp'].iloc[-1]\n",
        "future_df['rh'] = df['rh'].iloc[-1]\n",
        "future_df['ws'] = df['ws'].iloc[-1]\n",
        "future_df['maxws'] = df['maxws'].iloc[-1]\n",
        "future_df['airtemp'] = df['airtemp'].iloc[-1]\n",
        "future_pred = model.predict(future_df)\n",
        "\n",
        "# Print the actual and predicted DNI values\n",
        "print('Actual DNI values:')\n",
        "print(df['dni'].tail(5))\n",
        "print('\\nPredicted DNI values:')\n",
        "print(future_pred['yhat'].head(5))\n"
      ]
    }
  ],
  "metadata": {
    "colab": {
      "gpuType": "T4",
      "provenance": []
    },
    "kernelspec": {
      "display_name": "Python 3",
      "name": "python3"
    },
    "language_info": {
      "name": "python"
    }
  },
  "nbformat": 4,
  "nbformat_minor": 0
}
